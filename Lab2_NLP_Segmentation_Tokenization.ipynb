{
  "nbformat": 4,
  "nbformat_minor": 0,
  "metadata": {
    "kernelspec": {
      "display_name": "Python 3",
      "language": "python",
      "name": "python3"
    },
    "language_info": {
      "codemirror_mode": {
        "name": "ipython",
        "version": 3
      },
      "file_extension": ".py",
      "mimetype": "text/x-python",
      "name": "python",
      "nbconvert_exporter": "python",
      "pygments_lexer": "ipython3",
      "version": "3.8.3"
    },
    "colab": {
      "provenance": [],
      "collapsed_sections": [
        "zzSAL9Qy1PVL",
        "M9M1MTnT1PVU",
        "to-dRUcB1PVa",
        "lzytU2PhmxV5"
      ],
      "include_colab_link": true
    }
  },
  "cells": [
    {
      "cell_type": "markdown",
      "metadata": {
        "id": "view-in-github",
        "colab_type": "text"
      },
      "source": [
        "<a href=\"https://colab.research.google.com/github/sumaiyakawsar/NLP_Masters_Class/blob/main/Lab2_NLP_Segmentation_Tokenization.ipynb\" target=\"_parent\"><img src=\"https://colab.research.google.com/assets/colab-badge.svg\" alt=\"Open In Colab\"/></a>"
      ]
    },
    {
      "cell_type": "markdown",
      "metadata": {
        "id": "zzSAL9Qy1PVL"
      },
      "source": [
        "## Sentence Segmentation/Tokenization\n",
        "\n"
      ]
    },
    {
      "cell_type": "code",
      "metadata": {
        "id": "NQQdJnAo1PVR",
        "outputId": "c3a29589-93e4-4f78-cff7-0a76532d04cd",
        "colab": {
          "base_uri": "https://localhost:8080/"
        }
      },
      "source": [
        "from nltk.tokenize import sent_tokenize\n",
        "import nltk\n",
        "nltk.download('punkt')\n",
        "\n",
        "sampleText = \"This programme is designed to provide students with knowledge and applied skills in data science, big data analytics and business intelligence. It aims to develop analytical and investigative knowledge and skills using data science tools and techniques, and to enhance data science knowledge and critical interpretation skills. Students will understand the impact of data science upon modern processes and businesses, be able to identify, and implement specific tools, practices, features and techniques to enhance the analysis of data.\"\n",
        "\n",
        "Sentences = sent_tokenize(sampleText)\n",
        "\n",
        "print(\"There are \", len(Sentences), \"sentences in this text\\n\")\n",
        "\n",
        "counter = 0\n",
        "for sent in Sentences:\n",
        "    counter+=1\n",
        "    print(counter,\".\",sent,\"\\n\")\n"
      ],
      "execution_count": null,
      "outputs": [
        {
          "output_type": "stream",
          "name": "stdout",
          "text": [
            "There are  3 sentences in this text\n",
            "\n",
            "1 . This programme is designed to provide students with knowledge and applied skills in data science, big data analytics and business intelligence. \n",
            "\n",
            "2 . It aims to develop analytical and investigative knowledge and skills using data science tools and techniques, and to enhance data science knowledge and critical interpretation skills. \n",
            "\n",
            "3 . Students will understand the impact of data science upon modern processes and businesses, be able to identify, and implement specific tools, practices, features and techniques to enhance the analysis of data. \n",
            "\n"
          ]
        },
        {
          "output_type": "stream",
          "name": "stderr",
          "text": [
            "[nltk_data] Downloading package punkt to /root/nltk_data...\n",
            "[nltk_data]   Package punkt is already up-to-date!\n"
          ]
        }
      ]
    },
    {
      "cell_type": "markdown",
      "metadata": {
        "id": "M9M1MTnT1PVU"
      },
      "source": [
        "## Word tokenization"
      ]
    },
    {
      "cell_type": "code",
      "metadata": {
        "id": "3ZpVS-Ke1PVU",
        "outputId": "cd50c561-2f5d-4a78-b937-cea9a8470c37",
        "colab": {
          "base_uri": "https://localhost:8080/"
        }
      },
      "source": [
        "from nltk.tokenize import word_tokenize\n",
        "\n",
        "sampleText = \"This programme is designed to provide students with knowledge and applied skills in data science, big data analytics and business intelligence. It aims to develop analytical and investigative knowledge and skills using data science tools and techniques, and to enhance data science knowledge and critical interpretation skills. Students will understand the impact of data science upon modern processes and businesses, be able to identify, and implement specific tools, practices, features and techniques to enhance the analysis of data.\"\n",
        "\n",
        "Tokens = word_tokenize(sampleText)\n",
        "\n",
        "print(\"There are \", len(Tokens), \"tokens in this text\\n\")\n",
        "\n",
        "counter = 0\n",
        "for w in Tokens:\n",
        "    counter+=1\n",
        "    print(counter,\".\",w)\n",
        "\n",
        "# To print all the tokens\n",
        "print(Tokens)\n",
        "print()\n",
        "\n",
        "# Use nltk.Text() to create a text list from the tokens list.\n",
        "import nltk\n",
        "Tokenstext = nltk.Text(Tokens)\n",
        "print(Tokenstext[0:len(Tokenstext)])"
      ],
      "execution_count": null,
      "outputs": [
        {
          "output_type": "stream",
          "name": "stdout",
          "text": [
            "There are  87 tokens in this text\n",
            "\n",
            "1 . This\n",
            "2 . programme\n",
            "3 . is\n",
            "4 . designed\n",
            "5 . to\n",
            "6 . provide\n",
            "7 . students\n",
            "8 . with\n",
            "9 . knowledge\n",
            "10 . and\n",
            "11 . applied\n",
            "12 . skills\n",
            "13 . in\n",
            "14 . data\n",
            "15 . science\n",
            "16 . ,\n",
            "17 . big\n",
            "18 . data\n",
            "19 . analytics\n",
            "20 . and\n",
            "21 . business\n",
            "22 . intelligence\n",
            "23 . .\n",
            "24 . It\n",
            "25 . aims\n",
            "26 . to\n",
            "27 . develop\n",
            "28 . analytical\n",
            "29 . and\n",
            "30 . investigative\n",
            "31 . knowledge\n",
            "32 . and\n",
            "33 . skills\n",
            "34 . using\n",
            "35 . data\n",
            "36 . science\n",
            "37 . tools\n",
            "38 . and\n",
            "39 . techniques\n",
            "40 . ,\n",
            "41 . and\n",
            "42 . to\n",
            "43 . enhance\n",
            "44 . data\n",
            "45 . science\n",
            "46 . knowledge\n",
            "47 . and\n",
            "48 . critical\n",
            "49 . interpretation\n",
            "50 . skills\n",
            "51 . .\n",
            "52 . Students\n",
            "53 . will\n",
            "54 . understand\n",
            "55 . the\n",
            "56 . impact\n",
            "57 . of\n",
            "58 . data\n",
            "59 . science\n",
            "60 . upon\n",
            "61 . modern\n",
            "62 . processes\n",
            "63 . and\n",
            "64 . businesses\n",
            "65 . ,\n",
            "66 . be\n",
            "67 . able\n",
            "68 . to\n",
            "69 . identify\n",
            "70 . ,\n",
            "71 . and\n",
            "72 . implement\n",
            "73 . specific\n",
            "74 . tools\n",
            "75 . ,\n",
            "76 . practices\n",
            "77 . ,\n",
            "78 . features\n",
            "79 . and\n",
            "80 . techniques\n",
            "81 . to\n",
            "82 . enhance\n",
            "83 . the\n",
            "84 . analysis\n",
            "85 . of\n",
            "86 . data\n",
            "87 . .\n",
            "['This', 'programme', 'is', 'designed', 'to', 'provide', 'students', 'with', 'knowledge', 'and', 'applied', 'skills', 'in', 'data', 'science', ',', 'big', 'data', 'analytics', 'and', 'business', 'intelligence', '.', 'It', 'aims', 'to', 'develop', 'analytical', 'and', 'investigative', 'knowledge', 'and', 'skills', 'using', 'data', 'science', 'tools', 'and', 'techniques', ',', 'and', 'to', 'enhance', 'data', 'science', 'knowledge', 'and', 'critical', 'interpretation', 'skills', '.', 'Students', 'will', 'understand', 'the', 'impact', 'of', 'data', 'science', 'upon', 'modern', 'processes', 'and', 'businesses', ',', 'be', 'able', 'to', 'identify', ',', 'and', 'implement', 'specific', 'tools', ',', 'practices', ',', 'features', 'and', 'techniques', 'to', 'enhance', 'the', 'analysis', 'of', 'data', '.']\n",
            "\n",
            "['This', 'programme', 'is', 'designed', 'to', 'provide', 'students', 'with', 'knowledge', 'and', 'applied', 'skills', 'in', 'data', 'science', ',', 'big', 'data', 'analytics', 'and', 'business', 'intelligence', '.', 'It', 'aims', 'to', 'develop', 'analytical', 'and', 'investigative', 'knowledge', 'and', 'skills', 'using', 'data', 'science', 'tools', 'and', 'techniques', ',', 'and', 'to', 'enhance', 'data', 'science', 'knowledge', 'and', 'critical', 'interpretation', 'skills', '.', 'Students', 'will', 'understand', 'the', 'impact', 'of', 'data', 'science', 'upon', 'modern', 'processes', 'and', 'businesses', ',', 'be', 'able', 'to', 'identify', ',', 'and', 'implement', 'specific', 'tools', ',', 'practices', ',', 'features', 'and', 'techniques', 'to', 'enhance', 'the', 'analysis', 'of', 'data', '.']\n"
          ]
        }
      ]
    },
    {
      "cell_type": "markdown",
      "metadata": {
        "id": "to-dRUcB1PVa"
      },
      "source": [
        "### Word Tokenisation"
      ]
    },
    {
      "cell_type": "code",
      "metadata": {
        "id": "AQCLTnmL1PVb",
        "outputId": "064f63a2-8c11-4226-9c28-8576215afb67",
        "colab": {
          "base_uri": "https://localhost:8080/"
        }
      },
      "source": [
        "import nltk\n",
        "from textblob import TextBlob\n",
        "'''TextBlob - Installing/Upgrading\n",
        "From the PyPI\n",
        "pip install -U textblob\n",
        "From Conda\n",
        "conda install -c conda-forge textblob'''\n",
        "\n",
        "text = \"Clairson International Corp. said it expects to report a net loss for its second quarter ended March 26 and doesn’t expect to meet analysts’ profit estimates of $3.9 to $4 million, or 76 cents a share to 79 cents a share, for its year ending Sept. 24.\"\n",
        "wordtokens = text.split(' ')\n",
        "print(\"Tokenisation using split function ~~~~~~~~~~~~~~~ \")\n",
        "print(wordtokens)\n",
        "\n",
        "print(\"\\nTokenisation using nltk word tokenise function ~~~~~~~~~~~~~~~ \")\n",
        "print(nltk.tokenize.word_tokenize(text))\n",
        "\n",
        "print(\"\\nTokenisation using textblob tokenise function ~~~~~~~~~~~~~~~ \")\n",
        "print(TextBlob(text).words)"
      ],
      "execution_count": null,
      "outputs": [
        {
          "output_type": "stream",
          "name": "stdout",
          "text": [
            "Tokenisation using split function ~~~~~~~~~~~~~~~ \n",
            "['Clairson', 'International', 'Corp.', 'said', 'it', 'expects', 'to', 'report', 'a', 'net', 'loss', 'for', 'its', 'second', 'quarter', 'ended', 'March', '26', 'and', 'doesn’t', 'expect', 'to', 'meet', 'analysts’', 'profit', 'estimates', 'of', '$3.9', 'to', '$4', 'million,', 'or', '76', 'cents', 'a', 'share', 'to', '79', 'cents', 'a', 'share,', 'for', 'its', 'year', 'ending', 'Sept.', '24.']\n",
            "\n",
            "Tokenisation using nltk word tokenise function ~~~~~~~~~~~~~~~ \n",
            "['Clairson', 'International', 'Corp.', 'said', 'it', 'expects', 'to', 'report', 'a', 'net', 'loss', 'for', 'its', 'second', 'quarter', 'ended', 'March', '26', 'and', 'doesn', '’', 't', 'expect', 'to', 'meet', 'analysts', '’', 'profit', 'estimates', 'of', '$', '3.9', 'to', '$', '4', 'million', ',', 'or', '76', 'cents', 'a', 'share', 'to', '79', 'cents', 'a', 'share', ',', 'for', 'its', 'year', 'ending', 'Sept.', '24', '.']\n",
            "\n",
            "Tokenisation using textblob tokenise function ~~~~~~~~~~~~~~~ \n",
            "['Clairson', 'International', 'Corp', 'said', 'it', 'expects', 'to', 'report', 'a', 'net', 'loss', 'for', 'its', 'second', 'quarter', 'ended', 'March', '26', 'and', 'doesn', '’', 't', 'expect', 'to', 'meet', 'analysts', '’', 'profit', 'estimates', 'of', '3.9', 'to', '4', 'million', 'or', '76', 'cents', 'a', 'share', 'to', '79', 'cents', 'a', 'share', 'for', 'its', 'year', 'ending', 'Sept', '24']\n"
          ]
        }
      ]
    },
    {
      "cell_type": "code",
      "source": [
        "import spacy\n",
        "nlp = spacy.load(\"en_core_web_sm\")\n",
        "\n",
        "text = \"Clairson International Corp. said it expects to report a net loss for its second quarter ended March 26 and doesn’t expect to meet analysts’ profit estimates of $3.9 to $4 million, or 76 cents a share to 79 cents a share, for its year ending Sept. 24.\"\n",
        "\n",
        "doc = nlp(text)\n",
        "for token in doc:\n",
        "    print(token.text)"
      ],
      "metadata": {
        "colab": {
          "base_uri": "https://localhost:8080/"
        },
        "id": "LZNDEBmId_y1",
        "outputId": "b16fa0b8-4091-40ba-ec02-7561bd38ecb0"
      },
      "execution_count": null,
      "outputs": [
        {
          "output_type": "stream",
          "name": "stdout",
          "text": [
            "Clairson\n",
            "International\n",
            "Corp.\n",
            "said\n",
            "it\n",
            "expects\n",
            "to\n",
            "report\n",
            "a\n",
            "net\n",
            "loss\n",
            "for\n",
            "its\n",
            "second\n",
            "quarter\n",
            "ended\n",
            "March\n",
            "26\n",
            "and\n",
            "does\n",
            "n’t\n",
            "expect\n",
            "to\n",
            "meet\n",
            "analysts\n",
            "’\n",
            "profit\n",
            "estimates\n",
            "of\n",
            "$\n",
            "3.9\n",
            "to\n",
            "$\n",
            "4\n",
            "million\n",
            ",\n",
            "or\n",
            "76\n",
            "cents\n",
            "a\n",
            "share\n",
            "to\n",
            "79\n",
            "cents\n",
            "a\n",
            "share\n",
            ",\n",
            "for\n",
            "its\n",
            "year\n",
            "ending\n",
            "Sept.\n",
            "24\n",
            ".\n"
          ]
        }
      ]
    },
    {
      "cell_type": "code",
      "source": [
        "from spacy.tokenizer import Tokenizer\n",
        "from spacy.lang.en import English\n",
        "nlp = English()\n",
        "\n",
        "# Creating a blank Tokenizer with just the English vocab\n",
        "tokenizer = Tokenizer(nlp.vocab)\n",
        "text = \"Clairson International Corp. said it expects to report a net loss for its second quarter ended March 26 and doesn’t expect to meet analysts’ profit estimates of $3.9 to $4 million, or 76 cents a share to 79 cents a share, for its year ending Sept. 24.\"\n",
        "\n",
        "tokens = tokenizer(text)\n",
        "for token in tokens:\n",
        "    print(token)"
      ],
      "metadata": {
        "colab": {
          "base_uri": "https://localhost:8080/"
        },
        "id": "qd-uSR-b1HqU",
        "outputId": "3acf7d64-c9ab-4e4c-f8f7-4f0ff0dc611f"
      },
      "execution_count": null,
      "outputs": [
        {
          "output_type": "stream",
          "name": "stdout",
          "text": [
            "Clairson\n",
            "International\n",
            "Corp.\n",
            "said\n",
            "it\n",
            "expects\n",
            "to\n",
            "report\n",
            "a\n",
            "net\n",
            "loss\n",
            "for\n",
            "its\n",
            "second\n",
            "quarter\n",
            "ended\n",
            "March\n",
            "26\n",
            "and\n",
            "doesn’t\n",
            "expect\n",
            "to\n",
            "meet\n",
            "analysts’\n",
            "profit\n",
            "estimates\n",
            "of\n",
            "$3.9\n",
            "to\n",
            "$4\n",
            "million,\n",
            "or\n",
            "76\n",
            "cents\n",
            "a\n",
            "share\n",
            "to\n",
            "79\n",
            "cents\n",
            "a\n",
            "share,\n",
            "for\n",
            "its\n",
            "year\n",
            "ending\n",
            "Sept.\n",
            "24.\n"
          ]
        }
      ]
    },
    {
      "cell_type": "markdown",
      "metadata": {
        "id": "mNOx_8HB1PVb"
      },
      "source": [
        "## Removing Stop Words & punctuation"
      ]
    },
    {
      "cell_type": "markdown",
      "source": [
        "###List all negated words"
      ],
      "metadata": {
        "id": "lzytU2PhmxV5"
      }
    },
    {
      "cell_type": "code",
      "source": [
        "import nltk, string\n",
        "nltk.download('stopwords')\n",
        "nltk.corpus.stopwords.words(\"english\") + list(string.punctuation)"
      ],
      "metadata": {
        "colab": {
          "base_uri": "https://localhost:8080/"
        },
        "id": "RroG033Jk6Gm",
        "outputId": "aa79aa13-184b-42f1-9425-031a2a89ea97"
      },
      "execution_count": null,
      "outputs": [
        {
          "output_type": "stream",
          "name": "stderr",
          "text": [
            "[nltk_data] Downloading package stopwords to /root/nltk_data...\n",
            "[nltk_data]   Package stopwords is already up-to-date!\n"
          ]
        },
        {
          "output_type": "execute_result",
          "data": {
            "text/plain": [
              "['i',\n",
              " 'me',\n",
              " 'my',\n",
              " 'myself',\n",
              " 'we',\n",
              " 'our',\n",
              " 'ours',\n",
              " 'ourselves',\n",
              " 'you',\n",
              " \"you're\",\n",
              " \"you've\",\n",
              " \"you'll\",\n",
              " \"you'd\",\n",
              " 'your',\n",
              " 'yours',\n",
              " 'yourself',\n",
              " 'yourselves',\n",
              " 'he',\n",
              " 'him',\n",
              " 'his',\n",
              " 'himself',\n",
              " 'she',\n",
              " \"she's\",\n",
              " 'her',\n",
              " 'hers',\n",
              " 'herself',\n",
              " 'it',\n",
              " \"it's\",\n",
              " 'its',\n",
              " 'itself',\n",
              " 'they',\n",
              " 'them',\n",
              " 'their',\n",
              " 'theirs',\n",
              " 'themselves',\n",
              " 'what',\n",
              " 'which',\n",
              " 'who',\n",
              " 'whom',\n",
              " 'this',\n",
              " 'that',\n",
              " \"that'll\",\n",
              " 'these',\n",
              " 'those',\n",
              " 'am',\n",
              " 'is',\n",
              " 'are',\n",
              " 'was',\n",
              " 'were',\n",
              " 'be',\n",
              " 'been',\n",
              " 'being',\n",
              " 'have',\n",
              " 'has',\n",
              " 'had',\n",
              " 'having',\n",
              " 'do',\n",
              " 'does',\n",
              " 'did',\n",
              " 'doing',\n",
              " 'a',\n",
              " 'an',\n",
              " 'the',\n",
              " 'and',\n",
              " 'but',\n",
              " 'if',\n",
              " 'or',\n",
              " 'because',\n",
              " 'as',\n",
              " 'until',\n",
              " 'while',\n",
              " 'of',\n",
              " 'at',\n",
              " 'by',\n",
              " 'for',\n",
              " 'with',\n",
              " 'about',\n",
              " 'against',\n",
              " 'between',\n",
              " 'into',\n",
              " 'through',\n",
              " 'during',\n",
              " 'before',\n",
              " 'after',\n",
              " 'above',\n",
              " 'below',\n",
              " 'to',\n",
              " 'from',\n",
              " 'up',\n",
              " 'down',\n",
              " 'in',\n",
              " 'out',\n",
              " 'on',\n",
              " 'off',\n",
              " 'over',\n",
              " 'under',\n",
              " 'again',\n",
              " 'further',\n",
              " 'then',\n",
              " 'once',\n",
              " 'here',\n",
              " 'there',\n",
              " 'when',\n",
              " 'where',\n",
              " 'why',\n",
              " 'how',\n",
              " 'all',\n",
              " 'any',\n",
              " 'both',\n",
              " 'each',\n",
              " 'few',\n",
              " 'more',\n",
              " 'most',\n",
              " 'other',\n",
              " 'some',\n",
              " 'such',\n",
              " 'no',\n",
              " 'nor',\n",
              " 'not',\n",
              " 'only',\n",
              " 'own',\n",
              " 'same',\n",
              " 'so',\n",
              " 'than',\n",
              " 'too',\n",
              " 'very',\n",
              " 's',\n",
              " 't',\n",
              " 'can',\n",
              " 'will',\n",
              " 'just',\n",
              " 'don',\n",
              " \"don't\",\n",
              " 'should',\n",
              " \"should've\",\n",
              " 'now',\n",
              " 'd',\n",
              " 'll',\n",
              " 'm',\n",
              " 'o',\n",
              " 're',\n",
              " 've',\n",
              " 'y',\n",
              " 'ain',\n",
              " 'aren',\n",
              " \"aren't\",\n",
              " 'couldn',\n",
              " \"couldn't\",\n",
              " 'didn',\n",
              " \"didn't\",\n",
              " 'doesn',\n",
              " \"doesn't\",\n",
              " 'hadn',\n",
              " \"hadn't\",\n",
              " 'hasn',\n",
              " \"hasn't\",\n",
              " 'haven',\n",
              " \"haven't\",\n",
              " 'isn',\n",
              " \"isn't\",\n",
              " 'ma',\n",
              " 'mightn',\n",
              " \"mightn't\",\n",
              " 'mustn',\n",
              " \"mustn't\",\n",
              " 'needn',\n",
              " \"needn't\",\n",
              " 'shan',\n",
              " \"shan't\",\n",
              " 'shouldn',\n",
              " \"shouldn't\",\n",
              " 'wasn',\n",
              " \"wasn't\",\n",
              " 'weren',\n",
              " \"weren't\",\n",
              " 'won',\n",
              " \"won't\",\n",
              " 'wouldn',\n",
              " \"wouldn't\",\n",
              " '!',\n",
              " '\"',\n",
              " '#',\n",
              " '$',\n",
              " '%',\n",
              " '&',\n",
              " \"'\",\n",
              " '(',\n",
              " ')',\n",
              " '*',\n",
              " '+',\n",
              " ',',\n",
              " '-',\n",
              " '.',\n",
              " '/',\n",
              " ':',\n",
              " ';',\n",
              " '<',\n",
              " '=',\n",
              " '>',\n",
              " '?',\n",
              " '@',\n",
              " '[',\n",
              " '\\\\',\n",
              " ']',\n",
              " '^',\n",
              " '_',\n",
              " '`',\n",
              " '{',\n",
              " '|',\n",
              " '}',\n",
              " '~']"
            ]
          },
          "metadata": {},
          "execution_count": 17
        }
      ]
    },
    {
      "cell_type": "markdown",
      "source": [
        "### List all puctuation marks"
      ],
      "metadata": {
        "id": "WSQ42SuSm3yV"
      }
    },
    {
      "cell_type": "code",
      "source": [
        "list(string.punctuation)"
      ],
      "metadata": {
        "colab": {
          "base_uri": "https://localhost:8080/"
        },
        "id": "fU3HG0K5mZ59",
        "outputId": "96c90322-0607-4094-d8fd-87f5bd9cd71e"
      },
      "execution_count": null,
      "outputs": [
        {
          "output_type": "execute_result",
          "data": {
            "text/plain": [
              "['!',\n",
              " '\"',\n",
              " '#',\n",
              " '$',\n",
              " '%',\n",
              " '&',\n",
              " \"'\",\n",
              " '(',\n",
              " ')',\n",
              " '*',\n",
              " '+',\n",
              " ',',\n",
              " '-',\n",
              " '.',\n",
              " '/',\n",
              " ':',\n",
              " ';',\n",
              " '<',\n",
              " '=',\n",
              " '>',\n",
              " '?',\n",
              " '@',\n",
              " '[',\n",
              " '\\\\',\n",
              " ']',\n",
              " '^',\n",
              " '_',\n",
              " '`',\n",
              " '{',\n",
              " '|',\n",
              " '}',\n",
              " '~']"
            ]
          },
          "metadata": {},
          "execution_count": 18
        }
      ]
    },
    {
      "cell_type": "code",
      "metadata": {
        "id": "Tz_8ec511PVc",
        "outputId": "cea58d27-2586-436f-e911-e0ff958a78dd",
        "colab": {
          "base_uri": "https://localhost:8080/",
          "height": 892
        }
      },
      "source": [
        "import nltk, string\n",
        "nltk.download('stopwords')\n",
        "import wordcloud\n",
        "'''conda install -c conda-forge wordcloud\n",
        "pip install wordcloud'''\n",
        "\n",
        "import matplotlib.pyplot as plt\n",
        "\n",
        "text = \"This programme is designed to provide students with knowledge and applied skills in data science, big data analytics and business intelligence. It aims to develop analytical and investigative knowledge and skills using data science tools and techniques, and to enhance data science knowledge and critical interpretation skills. Students will understand the impact of data science upon modern processes and businesses, be able to identify, and implement specific tools, practices, features and techniques to enhance the analysis of data.\"\n",
        "text_lower = text.lower()\n",
        "wordtokens = nltk.tokenize.word_tokenize(text_lower)\n",
        "print(wordtokens)\n",
        "\n",
        "print(\"\\nTotal number of words in this text corpus is \",len(wordtokens))\n",
        "\n",
        "stopTokens = nltk.corpus.stopwords.words(\"english\") + list(string.punctuation)\n",
        "filteredTokens = []\n",
        "\n",
        "for w in wordtokens:\n",
        "    if w not in stopTokens :\n",
        "        filteredTokens.append(w)\n",
        "\n",
        "print(\"There are\", len(filteredTokens), \"words in this text after removing stop words\\n\")\n",
        "print(filteredTokens)\n",
        "\n",
        "print(\"\\n\", stopTokens)\n",
        "\n",
        "# word count / bag of words\n",
        "print(wordtokens.count(\"skills\"))\n",
        "\n",
        "fdist1 = nltk.FreqDist(filteredTokens)\n",
        "print(\"\\n\",fdist1.most_common(10))\n",
        "\n",
        "# Display the generated word cloud ~~~~~~~~~~~~~~~~~~~~~~~~~~~~~~~~~~~~~\n",
        "word_cloud = wordcloud.WordCloud(background_color='white').generate(text) #untokenized text\n",
        "plt.figure(figsize = (15, 8), facecolor = None)\n",
        "plt.imshow(word_cloud)\n",
        "plt.axis(\"off\")\n",
        "plt.tight_layout(pad = 0)\n",
        "plt.show()\n"
      ],
      "execution_count": null,
      "outputs": [
        {
          "output_type": "stream",
          "name": "stdout",
          "text": [
            "['this', 'programme', 'is', 'designed', 'to', 'provide', 'students', 'with', 'knowledge', 'and', 'applied', 'skills', 'in', 'data', 'science', ',', 'big', 'data', 'analytics', 'and', 'business', 'intelligence', '.', 'it', 'aims', 'to', 'develop', 'analytical', 'and', 'investigative', 'knowledge', 'and', 'skills', 'using', 'data', 'science', 'tools', 'and', 'techniques', ',', 'and', 'to', 'enhance', 'data', 'science', 'knowledge', 'and', 'critical', 'interpretation', 'skills', '.', 'students', 'will', 'understand', 'the', 'impact', 'of', 'data', 'science', 'upon', 'modern', 'processes', 'and', 'businesses', ',', 'be', 'able', 'to', 'identify', ',', 'and', 'implement', 'specific', 'tools', ',', 'practices', ',', 'features', 'and', 'techniques', 'to', 'enhance', 'the', 'analysis', 'of', 'data', '.']\n",
            "\n",
            "Total number of words in this text corpus is  87\n",
            "There are 52 words in this text after removing stop words\n",
            "\n",
            "['programme', 'designed', 'provide', 'students', 'knowledge', 'applied', 'skills', 'data', 'science', 'big', 'data', 'analytics', 'business', 'intelligence', 'aims', 'develop', 'analytical', 'investigative', 'knowledge', 'skills', 'using', 'data', 'science', 'tools', 'techniques', 'enhance', 'data', 'science', 'knowledge', 'critical', 'interpretation', 'skills', 'students', 'understand', 'impact', 'data', 'science', 'upon', 'modern', 'processes', 'businesses', 'able', 'identify', 'implement', 'specific', 'tools', 'practices', 'features', 'techniques', 'enhance', 'analysis', 'data']\n",
            "\n",
            " ['i', 'me', 'my', 'myself', 'we', 'our', 'ours', 'ourselves', 'you', \"you're\", \"you've\", \"you'll\", \"you'd\", 'your', 'yours', 'yourself', 'yourselves', 'he', 'him', 'his', 'himself', 'she', \"she's\", 'her', 'hers', 'herself', 'it', \"it's\", 'its', 'itself', 'they', 'them', 'their', 'theirs', 'themselves', 'what', 'which', 'who', 'whom', 'this', 'that', \"that'll\", 'these', 'those', 'am', 'is', 'are', 'was', 'were', 'be', 'been', 'being', 'have', 'has', 'had', 'having', 'do', 'does', 'did', 'doing', 'a', 'an', 'the', 'and', 'but', 'if', 'or', 'because', 'as', 'until', 'while', 'of', 'at', 'by', 'for', 'with', 'about', 'against', 'between', 'into', 'through', 'during', 'before', 'after', 'above', 'below', 'to', 'from', 'up', 'down', 'in', 'out', 'on', 'off', 'over', 'under', 'again', 'further', 'then', 'once', 'here', 'there', 'when', 'where', 'why', 'how', 'all', 'any', 'both', 'each', 'few', 'more', 'most', 'other', 'some', 'such', 'no', 'nor', 'not', 'only', 'own', 'same', 'so', 'than', 'too', 'very', 's', 't', 'can', 'will', 'just', 'don', \"don't\", 'should', \"should've\", 'now', 'd', 'll', 'm', 'o', 're', 've', 'y', 'ain', 'aren', \"aren't\", 'couldn', \"couldn't\", 'didn', \"didn't\", 'doesn', \"doesn't\", 'hadn', \"hadn't\", 'hasn', \"hasn't\", 'haven', \"haven't\", 'isn', \"isn't\", 'ma', 'mightn', \"mightn't\", 'mustn', \"mustn't\", 'needn', \"needn't\", 'shan', \"shan't\", 'shouldn', \"shouldn't\", 'wasn', \"wasn't\", 'weren', \"weren't\", 'won', \"won't\", 'wouldn', \"wouldn't\", '!', '\"', '#', '$', '%', '&', \"'\", '(', ')', '*', '+', ',', '-', '.', '/', ':', ';', '<', '=', '>', '?', '@', '[', '\\\\', ']', '^', '_', '`', '{', '|', '}', '~']\n",
            "3\n",
            "\n",
            " [('data', 6), ('science', 4), ('knowledge', 3), ('skills', 3), ('students', 2), ('tools', 2), ('techniques', 2), ('enhance', 2), ('programme', 1), ('designed', 1)]\n"
          ]
        },
        {
          "output_type": "stream",
          "name": "stderr",
          "text": [
            "[nltk_data] Downloading package stopwords to /root/nltk_data...\n",
            "[nltk_data]   Package stopwords is already up-to-date!\n"
          ]
        },
        {
          "output_type": "display_data",
          "data": {
            "text/plain": [
              "<Figure size 1500x800 with 1 Axes>"
            ],
            "image/png": "[encoded data removed]"
          },
          "metadata": {}
        }
      ]
    }
  ]
}