{
  "nbformat": 4,
  "nbformat_minor": 0,
  "metadata": {
    "colab": {
      "provenance": [],
      "include_colab_link": true
    },
    "kernelspec": {
      "name": "python3",
      "display_name": "Python 3"
    },
    "language_info": {
      "name": "python"
    }
  },
  "cells": [
    {
      "cell_type": "markdown",
      "metadata": {
        "id": "view-in-github",
        "colab_type": "text"
      },
      "source": [
        "<a href=\"https://colab.research.google.com/github/sumaiyakawsar/NLP_Masters_Class/blob/main/Lab6_NLP_070923_Text_Classification_using_NB.ipynb\" target=\"_parent\"><img src=\"https://colab.research.google.com/assets/colab-badge.svg\" alt=\"Open In Colab\"/></a>"
      ]
    },
    {
      "cell_type": "markdown",
      "source": [
        "# Import the Libraries"
      ],
      "metadata": {
        "id": "JSTqZhyKv8Kg"
      }
    },
    {
      "cell_type": "code",
      "metadata": {
        "id": "IqcLIK_NCcvI",
        "colab": {
          "base_uri": "https://localhost:8080/"
        },
        "outputId": "24c3cba9-edfe-495a-92c0-06bc36dc3119"
      },
      "source": [
        "import nltk\n",
        "nltk.download('punkt')\n",
        "from nltk.classify import NaiveBayesClassifier"
      ],
      "execution_count": null,
      "outputs": [
        {
          "output_type": "stream",
          "name": "stderr",
          "text": [
            "[nltk_data] Downloading package punkt to /root/nltk_data...\n",
            "[nltk_data]   Unzipping tokenizers/punkt.zip.\n"
          ]
        },
        {
          "output_type": "stream",
          "name": "stdout",
          "text": [
            "The test document is classified as:  j\n"
          ]
        }
      ]
    },
    {
      "cell_type": "code",
      "metadata": {
        "colab": {
          "base_uri": "https://localhost:8080/"
        },
        "outputId": "171939c9-57f3-4e50-fe12-a5a6ade93669",
        "id": "_mgdeDfbwLlw"
      },
      "source": [
        "def extract_words(words):\n",
        "  return dict([(word, True) for word in words])\n",
        "\n",
        "m_data = ['TPM Tianjin TPM', 'TPM TPM Shanghai', 'TPM Macao']\n",
        "j_data = ['Chiba Kobe Kyoto TPM', 'Chiba Kobe Macao']\n",
        "\n",
        "m_feats = [(extract_words(nltk.tokenize.word_tokenize(m_data[i[0]])), 'm') for i in enumerate(m_data)]\n",
        "j_feats = [(extract_words(nltk.tokenize.word_tokenize(j_data[i[0]])), 'j') for i in enumerate(j_data)]\n",
        "\n",
        "train_data = m_feats + j_feats\n",
        "\n",
        "clf = NaiveBayesClassifier.train(train_data) # building model\n",
        "\n",
        "print('The test document is classified as: ', clf.classify(extract_words(nltk.tokenize.word_tokenize('TPM Kyoto Macao Chiba Kobe'))))"
      ],
      "execution_count": null,
      "outputs": [
        {
          "output_type": "stream",
          "name": "stdout",
          "text": [
            "The test document is classified as:  j\n"
          ]
        }
      ]
    },
    {
      "cell_type": "markdown",
      "metadata": {
        "id": "xvo4B909pMQa"
      },
      "source": [
        "**Testing word not found situation**"
      ]
    },
    {
      "cell_type": "code",
      "metadata": {
        "colab": {
          "base_uri": "https://localhost:8080/"
        },
        "id": "SMF3WH6uXjwL",
        "outputId": "d30df99d-a97e-4a71-8051-a526be2f4b2d"
      },
      "source": [
        "import nltk\n",
        "nltk.download('punkt')\n",
        "from nltk.classify import NaiveBayesClassifier\n",
        "\n",
        "def extract_words(words):\n",
        "  return dict([(word, True) for word in words])\n",
        "\n",
        "m_data = ['TPM Tianjin TPM', 'TPM TPM Shanghai', 'TPM Macao']\n",
        "j_data = ['Chiba Kobe Kyoto TPM', 'Chiba Kobe Macao']\n",
        "\n",
        "m_feats = [(extract_words(nltk.tokenize.word_tokenize(m_data[i[0]])), 'm') for i in enumerate(m_data)]\n",
        "j_feats = [(extract_words(nltk.tokenize.word_tokenize(j_data[i[0]])), 'j') for i in enumerate(j_data)]\n",
        "\n",
        "train_data = m_feats + j_feats\n",
        "\n",
        "clf = NaiveBayesClassifier.train(train_data)\n",
        "\n",
        "print('The test document is classified as: ', clf.classify(extract_words(nltk.tokenize.word_tokenize('Malaysia'))))"
      ],
      "execution_count": null,
      "outputs": [
        {
          "output_type": "stream",
          "name": "stdout",
          "text": [
            "The test document is classified as:  m\n"
          ]
        },
        {
          "output_type": "stream",
          "name": "stderr",
          "text": [
            "[nltk_data] Downloading package punkt to /root/nltk_data...\n",
            "[nltk_data]   Package punkt is already up-to-date!\n"
          ]
        }
      ]
    },
    {
      "cell_type": "code",
      "source": [
        "# NaiveBayesClassifier from NLTK does unsmoothing\n",
        "import nltk\n",
        "nltk.download('punkt')\n",
        "from nltk.classify import NaiveBayesClassifier\n",
        "\n",
        "def extract_words(words):\n",
        "  return dict([(word, True) for word in words])\n",
        "\n",
        "c_data = ['Chinese Beijing Chinese', 'Chinese Chinese Shanghai', 'Chinese Macao']\n",
        "j_data = ['Tokyo Japan Chinese']\n",
        "\n",
        "c_feats = [(extract_words(nltk.tokenize.word_tokenize(c_data[i[0]])), 'c') for i in enumerate(c_data)]\n",
        "j_feats = [(extract_words(nltk.tokenize.word_tokenize(j_data[i[0]])), 'j') for i in enumerate(j_data)]\n",
        "\n",
        "train_data = c_feats + j_feats\n",
        "\n",
        "clf = NaiveBayesClassifier.train(train_data) # building model\n",
        "\n",
        "print('The test document is classified as: ', clf.classify(extract_words(nltk.tokenize.word_tokenize('Chinese Chinese Chinese Tokyo Japan'))))"
      ],
      "metadata": {
        "colab": {
          "base_uri": "https://localhost:8080/"
        },
        "id": "B3WmgugWvZ0C",
        "outputId": "f5f42db8-300a-4937-82c0-7c3ec740b60d"
      },
      "execution_count": null,
      "outputs": [
        {
          "output_type": "stream",
          "name": "stdout",
          "text": [
            "The test document is classified as:  j\n"
          ]
        },
        {
          "output_type": "stream",
          "name": "stderr",
          "text": [
            "[nltk_data] Downloading package punkt to /root/nltk_data...\n",
            "[nltk_data]   Package punkt is already up-to-date!\n"
          ]
        }
      ]
    }
  ]
}